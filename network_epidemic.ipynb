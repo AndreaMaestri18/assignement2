{
 "cells": [
  {
   "cell_type": "code",
   "execution_count": 1,
   "metadata": {},
   "outputs": [],
   "source": [
    "import networkx as nx\n",
    "import ndlib.models.epidemics as ep\n",
    "import ndlib.models.ModelConfig as mc\n",
    "from ndlib.viz.bokeh.DiffusionTrend import DiffusionTrend\n",
    "from ndlib.viz.bokeh.DiffusionPrevalence import DiffusionPrevalence\n",
    "\n",
    "from bokeh.io import output_notebook, show"
   ]
  },
  {
   "cell_type": "markdown",
   "metadata": {},
   "source": [
    "# Random (Erdös - Renyi) Network"
   ]
  },
  {
   "cell_type": "code",
   "execution_count": 23,
   "metadata": {},
   "outputs": [
    {
     "name": "stdout",
     "output_type": "stream",
     "text": [
      "Graph with 1000 nodes and 49805 edges\n"
     ]
    },
    {
     "name": "stderr",
     "output_type": "stream",
     "text": [
      "BokehDeprecationWarning: 'legend' keyword is deprecated, use explicit 'legend_label', 'legend_field', or 'legend_group' keywords instead\n",
      "BokehDeprecationWarning: 'legend' keyword is deprecated, use explicit 'legend_label', 'legend_field', or 'legend_group' keywords instead\n",
      "BokehDeprecationWarning: 'legend' keyword is deprecated, use explicit 'legend_label', 'legend_field', or 'legend_group' keywords instead\n"
     ]
    }
   ],
   "source": [
    "#Defining the network\n",
    "er_graph = nx.erdos_renyi_graph(1000, 0.1) # 1000 nodes, 0.1 probability of edge creation\n",
    "print(nx.info(er_graph))\n",
    "\n",
    "# Configure the Simulation / Model using a Configuration instance\n",
    "def SIR_config(graph, ß, gamma, infecteds, random=True):\n",
    "    # Model Selection\n",
    "    model = ep.SIRModel(graph)\n",
    "\n",
    "    config = mc.Configuration()\n",
    "    config.add_model_parameter('beta', ß) # 0.001\n",
    "    config.add_model_parameter('gamma', gamma) # 0.01\n",
    "    if random == True:\n",
    "        config.add_model_parameter('fraction_infected', infecteds) # 0.05\n",
    "    else:\n",
    "        config.add_model_initial_configuration(\"Infected\", infecteds)\n",
    "\n",
    "    # Initializing\n",
    "    model.set_initial_status(config)\n",
    "\n",
    "    return model\n",
    "\n",
    "# Random infection\n",
    "rand_model = SIR_config(er_graph, 0.001, 0.01, 0.05)\n",
    "\n",
    "# Run Simulation\n",
    "iterations = rand_model.iteration_bunch(200)\n",
    "trends = rand_model.build_trends(iterations)\n",
    "\n",
    "# Visualization\n",
    "\n",
    "# Diffusion Trend visualization\n",
    "viz = DiffusionTrend(rand_model, trends)\n",
    "sir_plot = viz.plot(width=400, height=400)\n",
    "show(sir_plot)\n",
    "\n",
    "# # Diffusion Prevalence Visualization\n",
    "# viz2 = DiffusionPrevalence(model, trends)\n",
    "# sir_plot2 = viz2.plot(width=400, height=400)\n",
    "# show(sir_plot2)"
   ]
  },
  {
   "cell_type": "code",
   "execution_count": 3,
   "metadata": {},
   "outputs": [],
   "source": [
    "# Stats\n",
    "\n",
    "# Diameter, Average Clustering Coefficient, Average shortest distance, average Degree\n"
   ]
  },
  {
   "cell_type": "markdown",
   "metadata": {},
   "source": [
    "# Targeted Infection"
   ]
  },
  {
   "cell_type": "code",
   "execution_count": 4,
   "metadata": {},
   "outputs": [
    {
     "name": "stderr",
     "output_type": "stream",
     "text": [
      "BokehDeprecationWarning: 'legend' keyword is deprecated, use explicit 'legend_label', 'legend_field', or 'legend_group' keywords instead\n",
      "BokehDeprecationWarning: 'legend' keyword is deprecated, use explicit 'legend_label', 'legend_field', or 'legend_group' keywords instead\n",
      "BokehDeprecationWarning: 'legend' keyword is deprecated, use explicit 'legend_label', 'legend_field', or 'legend_group' keywords instead\n"
     ]
    }
   ],
   "source": [
    "# Finding the 50 nodes with highest degree centrality\n",
    "node_degs = nx.degree_centrality(er_graph)\n",
    "sorted_nodes = sorted(node_degs.items(), key = lambda x: x[1], reverse=True)\n",
    "top_nodes = [i[0] for i in sorted_nodes[:50]]\n",
    "\n",
    "# Targeting the 50 nodes with highest degree centrality\n",
    "targeted_model = SIR_config(er_graph, 0.001, 0.01, top_nodes, random=False)\n",
    "\n",
    "# Run the Simulation\n",
    "iterations = targeted_model.iteration_bunch(200)\n",
    "trends = targeted_model.build_trends(iterations)\n",
    "\n",
    "\n",
    "# Diffusion Trend visualization\n",
    "viz = DiffusionTrend(targeted_model, trends)\n",
    "sir_plot = viz.plot(width=400, height=400)\n",
    "show(sir_plot)\n"
   ]
  },
  {
   "cell_type": "markdown",
   "metadata": {},
   "source": [
    "# Scale-Free (Barabasi-Albert) Network"
   ]
  },
  {
   "cell_type": "code",
   "execution_count": 22,
   "metadata": {},
   "outputs": [
    {
     "name": "stdout",
     "output_type": "stream",
     "text": [
      "Graph with 1000 nodes and 9900 edges\n"
     ]
    }
   ],
   "source": [
    "#Defining the network\n",
    "ba_graph = nx.barabasi_albert_graph(1000, 10) # 1000 nodes, 100 edges created\n",
    "print(nx.info(ba_graph))\n",
    "\n",
    "rand_model_2 = SIR_config(ba_graph, 0.001, 0.01, 0.05)\n",
    "\n",
    "# Run the Simulation\n",
    "iterations = rand_model_2.iteration_bunch(200)\n",
    "trends = rand_model_2.build_trends(iterations)\n",
    "\n",
    "\n",
    "# Diffusion Trend visualization\n",
    "# viz = DiffusionTrend(rand_model_2, trends)\n",
    "# sir_plot = viz.plot(width=400, height=400)\n",
    "# show(sir_plot)"
   ]
  },
  {
   "cell_type": "code",
   "execution_count": 6,
   "metadata": {},
   "outputs": [
    {
     "name": "stderr",
     "output_type": "stream",
     "text": [
      "BokehDeprecationWarning: 'legend' keyword is deprecated, use explicit 'legend_label', 'legend_field', or 'legend_group' keywords instead\n",
      "BokehDeprecationWarning: 'legend' keyword is deprecated, use explicit 'legend_label', 'legend_field', or 'legend_group' keywords instead\n",
      "BokehDeprecationWarning: 'legend' keyword is deprecated, use explicit 'legend_label', 'legend_field', or 'legend_group' keywords instead\n"
     ]
    }
   ],
   "source": [
    "# Targeting the 50 nodes with highest degree centrality\n",
    "targeted_model_2 = SIR_config(ba_graph, 0.001, 0.01, top_nodes, random=False)\n",
    "\n",
    "# Run the Simulation\n",
    "iterations = targeted_model_2.iteration_bunch(200)\n",
    "trends = targeted_model_2.build_trends(iterations)\n",
    "\n",
    "\n",
    "# Diffusion Trend visualization\n",
    "viz = DiffusionTrend(targeted_model_2, trends)\n",
    "sir_plot = viz.plot(width=400, height=400)\n",
    "show(sir_plot)"
   ]
  },
  {
   "cell_type": "markdown",
   "metadata": {},
   "source": [
    "# Early Time Behaviour - SI Model\n",
    "\n",
    "Anti-Pandemic measures are most effective when the pathogen has not yet established itself on the network. During this timeframe, the class of recovered individuals does not yet come in to play. For this reason, we can use SI models to study the behaviour of early stage outbreaks.\n",
    "\n",
    "Parameters such as average shortest distance and average degree give us information on how fast the pathogen spreads\n",
    "\n",
    "Diameter, average clustering coefficient"
   ]
  },
  {
   "cell_type": "markdown",
   "metadata": {},
   "source": [
    "Equation 10.17 tells us the following:\n",
    "The higher the degree of a node, the higher the likelihood that it becomes infected. In other words, the group of nodes (degree block assumption) with a higher degree has a higher fraction of infected nodes.\n",
    "\n",
    "# Epidemic Threshold\n",
    "\n",
    "\"For a network with an arbitrary degree distribution we set $\\tau ^{SIS} > 0$, obtaining the epidemic threshold as:\n",
    "\n",
    "$\\lambda _c = \\frac{<k>}{<k^2>}$\n",
    "\n",
    "However, in large scale-free networks the threshold vanishes as N -> infty.\n",
    "\n",
    "# Vaccination\n",
    "The fraction of immunized population $g_c$ needs to be:\n",
    "\n",
    "$g_c = 1 - \\frac{\\mu}{ß}\\frac{<k>}{<k^2>}$\n",
    "\n",
    "in order to get below the critical threshold. This shows that if $<k^2> -> \\infty$ ie is divergent, random immunization cannot prevent the outbreak.\n",
    "\n",
    "### Random Netork Vaccination\n",
    "\n",
    "\n",
    "### Scale Free Vaccination\n",
    "In scale free networks, ${<k^2>}$ as N -> infty, this is because the hubs are responsible for the spread of the disease. immunization strategies can not move λ under λc.\n",
    "-> Immunizing the is is critical.\n",
    "\n"
   ]
  },
  {
   "cell_type": "code",
   "execution_count": null,
   "metadata": {},
   "outputs": [],
   "source": []
  }
 ],
 "metadata": {
  "interpreter": {
   "hash": "dc7d60919c39dcf6488182ae820ea5a324ce32f41590a148bb714049982a0f7f"
  },
  "kernelspec": {
   "display_name": "Python 3.9.7 64-bit",
   "name": "python3"
  },
  "language_info": {
   "codemirror_mode": {
    "name": "ipython",
    "version": 3
   },
   "file_extension": ".py",
   "mimetype": "text/x-python",
   "name": "python",
   "nbconvert_exporter": "python",
   "pygments_lexer": "ipython3",
   "version": "3.9.7"
  },
  "orig_nbformat": 4
 },
 "nbformat": 4,
 "nbformat_minor": 2
}
