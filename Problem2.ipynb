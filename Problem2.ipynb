{
 "cells": [
  {
   "cell_type": "code",
   "execution_count": 36,
   "id": "707c6e11",
   "metadata": {},
   "outputs": [],
   "source": [
    "from IPython.display import Image\n",
    "import scipy\n",
    "from scipy import fftpack\n",
    "import pandas as pd\n",
    "import numpy as np\n",
    "import matplotlib.pyplot as plt\n",
    "import pylab as pp\n",
    "from scipy import integrate, optimize\n",
    "from scipy.integrate import odeint\n",
    "from random import random\n",
    "import math\n",
    "from scipy.interpolate import interp1d"
   ]
  },
  {
   "cell_type": "code",
   "execution_count": 2,
   "id": "b6121b3f",
   "metadata": {},
   "outputs": [
    {
     "ename": "NameError",
     "evalue": "name 'math' is not defined",
     "output_type": "error",
     "traceback": [
      "\u001b[1;31m---------------------------------------------------------------------------\u001b[0m",
      "\u001b[1;31mNameError\u001b[0m                                 Traceback (most recent call last)",
      "\u001b[1;32m~\\AppData\\Local\\Temp/ipykernel_13456/1720795288.py\u001b[0m in \u001b[0;36m<module>\u001b[1;34m\u001b[0m\n\u001b[0;32m     44\u001b[0m         \u001b[1;32mbreak\u001b[0m\u001b[1;33m\u001b[0m\u001b[1;33m\u001b[0m\u001b[0m\n\u001b[0;32m     45\u001b[0m     \u001b[1;32melse\u001b[0m\u001b[1;33m:\u001b[0m\u001b[1;33m\u001b[0m\u001b[1;33m\u001b[0m\u001b[0m\n\u001b[1;32m---> 46\u001b[1;33m         \u001b[0mdt\u001b[0m \u001b[1;33m=\u001b[0m \u001b[1;33m-\u001b[0m \u001b[0mmath\u001b[0m\u001b[1;33m.\u001b[0m\u001b[0mlog\u001b[0m\u001b[1;33m(\u001b[0m\u001b[0mrandom\u001b[0m\u001b[1;33m(\u001b[0m\u001b[1;33m)\u001b[0m\u001b[1;33m)\u001b[0m \u001b[1;33m/\u001b[0m \u001b[0msum\u001b[0m\u001b[1;33m(\u001b[0m\u001b[0mtot_rate\u001b[0m\u001b[1;33m)\u001b[0m\u001b[1;33m\u001b[0m\u001b[1;33m\u001b[0m\u001b[0m\n\u001b[0m\u001b[0;32m     47\u001b[0m         \u001b[0mt\u001b[0m \u001b[1;33m+=\u001b[0m \u001b[0mdt\u001b[0m\u001b[1;33m\u001b[0m\u001b[1;33m\u001b[0m\u001b[0m\n\u001b[0;32m     48\u001b[0m         \u001b[0mT\u001b[0m\u001b[1;33m.\u001b[0m\u001b[0mappend\u001b[0m\u001b[1;33m(\u001b[0m\u001b[0mt\u001b[0m\u001b[1;33m)\u001b[0m\u001b[1;33m\u001b[0m\u001b[1;33m\u001b[0m\u001b[0m\n",
      "\u001b[1;31mNameError\u001b[0m: name 'math' is not defined"
     ]
    }
   ],
   "source": [
    "# defining two populations\n",
    "\n",
    "x1 = 1000\n",
    "y1 = 0\n",
    "z1 = 0\n",
    "n1 = x1+y1+z1\n",
    "\n",
    "x2 = 990\n",
    "y2 = 10\n",
    "z2 = 0\n",
    "n2 = x2+y2+z2\n",
    "\n",
    "inf_1 = []\n",
    "sub_1 = []\n",
    "rec_1 = []\n",
    "\n",
    "inf_2 = []\n",
    "sub_2 = []\n",
    "rec_2 = []\n",
    "\n",
    "beta = 1\n",
    "gamma = 0.3\n",
    "rho1 = 1\n",
    "rho2 = 1\n",
    "rho12 = 0.001\n",
    "\n",
    "rates_1 = [gamma*y1, beta*x1/n1*(rho1*y1 + rho12*y2)]\n",
    "rates_2 = [gamma*y2, beta*x2/n2*(rho2*y2 + rho12*y1)]\n",
    "\n",
    "tot_rate_1 = sum(rates_1)\n",
    "tot_rate_2 = sum(rates_2)\n",
    "\n",
    "t = 0\n",
    "T = []\n",
    "\n",
    "\n",
    "while  t<40:\n",
    "    \n",
    "    rates_1 = [gamma*y1, beta*x1/n1*(rho1*y1 + rho12*y2)]\n",
    "    rates_2 = [gamma*y2, beta*x2/n2*(rho2*y2 + rho12*y1)]\n",
    "    tot_rate = rates_1 + rates_2\n",
    "    \n",
    "    if sum(tot_rate) == 0:\n",
    "        break\n",
    "    else:\n",
    "        dt = - math.log(random()) / sum(tot_rate)\n",
    "        t += dt\n",
    "        T.append(t) \n",
    "\n",
    "\n",
    "\n",
    "        #what's the next event in population1?\n",
    "        P1 = random() * sum(tot_rate)\n",
    "\n",
    "        if P1 < tot_rate[0]: # recovered\n",
    "            z1 += 1\n",
    "            y1 -= 1 \n",
    "            x1 = x1\n",
    "        elif P1 < sum(tot_rate[:2]) and x2 > 0: # infected\n",
    "            y1 += 1\n",
    "            x1 -= 1\n",
    "            z1 = z1\n",
    "        elif P1 < sum(tot_rate[:3]) and y2 > 0: # recovered\n",
    "            z2 += 1\n",
    "            y2 -= 1 \n",
    "            x2 = x2\n",
    "        elif P1 < sum(tot_rate[:4]) and x2 > 0: # infected\n",
    "            y2 += 1\n",
    "            x2 -= 1\n",
    "            z2 = z2\n",
    "        else:\n",
    "            y2 = y2\n",
    "            x2 = y2\n",
    "            z2 = z2\n",
    "\n",
    "\n",
    "        inf_1.append(y1)\n",
    "        rec_1.append(z1)\n",
    "        sub_1.append(x1)\n",
    "\n",
    "        inf_2.append(y2)\n",
    "        rec_2.append(z2)\n",
    "        sub_2.append(x2)\n",
    "        \n",
    "plt.plot(T,inf_1)\n",
    "plt.plot(T,inf_2)\n",
    "plt.show()"
   ]
  },
  {
   "cell_type": "code",
   "execution_count": 54,
   "id": "4c7df7ee",
   "metadata": {},
   "outputs": [],
   "source": [
    "def sirMetaPop(y,x,beta,gamma,rho12,N):\n",
    "    x1 = -(beta/N)*y[0]*(y[1]+rho12*y[3])\n",
    "    y1 = -gamma*y[1] + (beta/N)*y[0]*(y[1]+rho12*y[3])\n",
    "    x2 = -(beta/N)*y[2]*(y[3]+rho12*y[1])\n",
    "    y2 = -gamma*y[3] + (beta/N)*y[2]*(y[3]+rho12*y[1])\n",
    "    return x1,y1,x2,y2"
   ]
  },
  {
   "cell_type": "code",
   "execution_count": 55,
   "id": "2e0c630b",
   "metadata": {},
   "outputs": [],
   "source": [
    "t = np.linspace(0,50,1000)\n",
    "sol1 = odeint(sirMetaPop,[1000,0,990,10],t,(1,0.3,0.001,1000))"
   ]
  },
  {
   "cell_type": "code",
   "execution_count": 56,
   "id": "b44d51fa",
   "metadata": {},
   "outputs": [
    {
     "data": {
      "image/png": "[encoded data removed]",
      "text/plain": [
       "<Figure size 432x288 with 1 Axes>"
      ]
     },
     "metadata": {
      "needs_background": "light"
     },
     "output_type": "display_data"
    }
   ],
   "source": [
    "I2 = sol1[:, 3]\n",
    "I1 = sol1[:, 1]\n",
    "plt.plot(t,I2,label=\"S(t)\")\n",
    "plt.plot(t,I1,label=\"I(t)\")\n",
    "plt.plot(T,inf_1)\n",
    "plt.plot(T,inf_2)\n",
    "plt.show()"
   ]
  }
 ],
 "metadata": {
  "interpreter": {
   "hash": "dc7d60919c39dcf6488182ae820ea5a324ce32f41590a148bb714049982a0f7f"
  },
  "kernelspec": {
   "display_name": "Python 3.9.7 64-bit",
   "name": "python3"
  },
  "language_info": {
   "codemirror_mode": {
    "name": "ipython",
    "version": 3
   },
   "file_extension": ".py",
   "mimetype": "text/x-python",
   "name": "python",
   "nbconvert_exporter": "python",
   "pygments_lexer": "ipython3",
   "version": "3.9.7"
  }
 },
 "nbformat": 4,
 "nbformat_minor": 5
}
